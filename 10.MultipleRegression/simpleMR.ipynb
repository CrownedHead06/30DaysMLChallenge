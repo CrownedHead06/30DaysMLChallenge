{
 "cells": [
  {
   "cell_type": "code",
   "execution_count": 33,
   "metadata": {},
   "outputs": [],
   "source": [
    "import numpy as np\n",
    "import pandas as pd\n",
    "import seaborn as sns\n",
    "\n",
    "import warnings\n",
    "warnings.filterwarnings('ignore')"
   ]
  },
  {
   "cell_type": "code",
   "execution_count": 34,
   "metadata": {},
   "outputs": [],
   "source": [
    "from sklearn.datasets import make_regression\n",
    "X, y = make_regression(n_samples=100, n_features=2, n_informative=2, n_targets=1, noise=50)"
   ]
  },
  {
   "cell_type": "code",
   "execution_count": 35,
   "metadata": {},
   "outputs": [
    {
     "data": {
      "text/html": [
       "<div>\n",
       "<style scoped>\n",
       "    .dataframe tbody tr th:only-of-type {\n",
       "        vertical-align: middle;\n",
       "    }\n",
       "\n",
       "    .dataframe tbody tr th {\n",
       "        vertical-align: top;\n",
       "    }\n",
       "\n",
       "    .dataframe thead th {\n",
       "        text-align: right;\n",
       "    }\n",
       "</style>\n",
       "<table border=\"1\" class=\"dataframe\">\n",
       "  <thead>\n",
       "    <tr style=\"text-align: right;\">\n",
       "      <th></th>\n",
       "      <th>feature1</th>\n",
       "      <th>feature2</th>\n",
       "      <th>target</th>\n",
       "    </tr>\n",
       "  </thead>\n",
       "  <tbody>\n",
       "    <tr>\n",
       "      <th>0</th>\n",
       "      <td>-2.671773</td>\n",
       "      <td>0.307489</td>\n",
       "      <td>-162.959183</td>\n",
       "    </tr>\n",
       "    <tr>\n",
       "      <th>1</th>\n",
       "      <td>-1.330012</td>\n",
       "      <td>-0.586597</td>\n",
       "      <td>-20.770354</td>\n",
       "    </tr>\n",
       "    <tr>\n",
       "      <th>2</th>\n",
       "      <td>-0.365701</td>\n",
       "      <td>0.047001</td>\n",
       "      <td>10.537982</td>\n",
       "    </tr>\n",
       "    <tr>\n",
       "      <th>3</th>\n",
       "      <td>-0.104033</td>\n",
       "      <td>-2.180270</td>\n",
       "      <td>31.532403</td>\n",
       "    </tr>\n",
       "    <tr>\n",
       "      <th>4</th>\n",
       "      <td>0.528410</td>\n",
       "      <td>0.756881</td>\n",
       "      <td>120.359205</td>\n",
       "    </tr>\n",
       "  </tbody>\n",
       "</table>\n",
       "</div>"
      ],
      "text/plain": [
       "   feature1  feature2      target\n",
       "0 -2.671773  0.307489 -162.959183\n",
       "1 -1.330012 -0.586597  -20.770354\n",
       "2 -0.365701  0.047001   10.537982\n",
       "3 -0.104033 -2.180270   31.532403\n",
       "4  0.528410  0.756881  120.359205"
      ]
     },
     "execution_count": 35,
     "metadata": {},
     "output_type": "execute_result"
    }
   ],
   "source": [
    "df = pd.DataFrame({'feature1': X[:, 0],'feature2': X[:, 1], 'target': y})\n",
    "df.head()"
   ]
  },
  {
   "cell_type": "code",
   "execution_count": 36,
   "metadata": {},
   "outputs": [
    {
     "data": {
      "application/vnd.plotly.v1+json": {
       "config": {
        "plotlyServerURL": "https://plot.ly"
       },
       "data": [
        {
         "hovertemplate": "feature1=%{x}<br>feature2=%{y}<br>target=%{z}<extra></extra>",
         "legendgroup": "",
         "marker": {
          "color": "#636efa",
          "symbol": "circle"
         },
         "mode": "markers",
         "name": "",
         "scene": "scene",
         "showlegend": false,
         "type": "scatter3d",
         "x": [
          -2.671773231346699,
          -1.3300115739552718,
          -0.365701005132138,
          -0.10403267457149457,
          0.5284097180426227,
          0.07003320193542477,
          0.36824719601822087,
          -0.1912134382004608,
          -0.9938860601905056,
          1.9580137815983873,
          -1.8436255019394712,
          -1.4280821065513536,
          -0.34871451493143085,
          -1.8800461452881634,
          -2.150086536217743,
          1.2380611805118655,
          0.009751567748663738,
          -0.22918107800593596,
          -0.8132138197208129,
          -0.716517322586243,
          -1.7301697840173857,
          -1.5362826989106586,
          -0.4403222497897814,
          0.7257210845057946,
          -0.286369013925628,
          0.3840470338946328,
          0.13364043079636514,
          -1.6369119416411502,
          0.4533276459065427,
          1.4387036055507976,
          -0.8891230519789468,
          -2.828604064280734,
          -0.7708752839550087,
          -0.5676486268607394,
          -3.04659423349188,
          -0.3435755403659607,
          0.7352281936624615,
          -0.5224770821557151,
          1.699304414548667,
          -1.037099182896472,
          -0.18753324810910807,
          -0.27337993390891446,
          -0.6874534511491389,
          -0.001971537769293368,
          -0.4077728534454175,
          0.7781277720007312,
          -1.6452067747512407,
          -0.6387662235170988,
          0.4127619171196756,
          -0.1822698045051196,
          -0.3166108910870553,
          0.1864723486692468,
          -0.15219904275637824,
          -0.5022239746048105,
          -0.9525530173701754,
          1.077340132706079,
          -0.16215012319636635,
          1.3673535396250527,
          -1.0693540480624735,
          0.462587762156389,
          -1.5858953304835732,
          -3.1732509792097954,
          0.5068843005059093,
          -0.5609833761113384,
          0.881337142858795,
          0.7157187198989226,
          2.334536113221861,
          -0.22701353760602697,
          -0.2099967745324564,
          -1.0394514031179205,
          -1.0781432965493387,
          0.2171648270330778,
          0.5453054920159838,
          -1.3591727250692989,
          -0.1152480039551738,
          -0.05927474467184559,
          -1.5127387166648614,
          1.199170122593578,
          1.4722658374540634,
          0.8052074870989253,
          -1.3618840341938552,
          -0.3134331076309972,
          -0.6608085179560749,
          0.8728934034166996,
          0.05755015376981559,
          -0.5017238454915144,
          0.574523131432733,
          -0.7304070855016174,
          0.4656679951643345,
          -0.4103490038490635,
          1.0720206010307651,
          -0.62504296090358,
          2.003264513356376,
          0.5579945143913763,
          0.6181736275967059,
          -1.536141082889731,
          -0.055122608284401235,
          -1.415671697108204,
          -0.37569477207540247,
          0.8181363578140994
         ],
         "y": [
          0.3074885426263598,
          -0.586596633068276,
          0.04700089705968604,
          -2.180269654510539,
          0.756881480951648,
          0.6126379974453477,
          -1.433741336066478,
          -1.9975251278701487,
          -0.7102405516750324,
          0.7359131277115981,
          -1.6994924465450207,
          -1.087252867581204,
          0.4199483510088143,
          -1.0584320020857072,
          0.5236346303898015,
          -1.4265310504313131,
          1.3134226204053239,
          0.6588259249073617,
          0.697922702842479,
          1.465130420276173,
          0.4624763715116936,
          -0.8178382621530773,
          -1.1353026376533943,
          -0.2364569479998989,
          -1.7535138298107775,
          0.20566528430032202,
          2.579386133540345,
          0.6077923204855482,
          0.16704832471295072,
          -0.15191104114870843,
          -0.6337650446292152,
          0.9810987674427953,
          0.5279657931972257,
          -0.6340195429781097,
          1.1892143130508788,
          -0.8887306934024712,
          0.6306216105444366,
          -1.7004723843677338,
          0.8054518650980922,
          0.49962463062553764,
          1.3835520540047488,
          0.7324066894309725,
          -1.1140006124244737,
          0.8758352603917731,
          1.1492816899992813,
          0.05399954149010042,
          0.9117287201381777,
          0.06444959234511347,
          0.6700501022359318,
          -0.26307386684388084,
          1.7847833812695126,
          -0.6844704546639087,
          -0.856141405635539,
          0.3523166661026059,
          1.2016213163265466,
          0.7642211956601711,
          0.9588922811335512,
          1.2273069818144535,
          0.4830100731170598,
          -0.8185979330175528,
          -0.5266488334941736,
          -0.35426218735095405,
          0.3722903305083006,
          0.8603969479073275,
          -0.2402539364611238,
          0.9559746954127201,
          0.774692575812536,
          2.927679399170144,
          -1.939608185220297,
          -0.44495086688866936,
          1.1078766447895743,
          0.28165484044154726,
          -0.2554571239574165,
          0.28133689914907123,
          0.4031974249621631,
          -1.0438203812184128,
          -0.09089028813706218,
          -0.33671707007008683,
          0.8031251277235076,
          0.6994737267957312,
          2.436603891369576,
          2.1594832089526914,
          0.8330970748134018,
          -0.6688104223591617,
          0.13401601125576498,
          0.8903237615847367,
          -0.5894105850959296,
          0.19199382087040087,
          -0.7045199141830376,
          0.9516977126437332,
          0.5532559992658534,
          -0.7911204561592708,
          -1.0222697107545675,
          0.555645542076269,
          1.6953453318722131,
          -0.7579539905522812,
          -0.2374979862825703,
          0.13166502424795024,
          -0.7759872528608055,
          0.011837183664340247
         ],
         "z": [
          -162.95918264128125,
          -20.770353608226465,
          10.537981543185825,
          31.532402993644112,
          120.35920477012634,
          70.89224853382112,
          22.07421859489227,
          -31.352839234445504,
          -98.53054303049268,
          141.84761303671598,
          -157.00522662508834,
          -48.152434504909294,
          -35.70464618042832,
          -39.64725653898562,
          -89.58402400857008,
          93.68225539956514,
          -6.697766486549667,
          18.349495103331087,
          47.19384794443546,
          -23.114536037236995,
          -22.785942790004533,
          -98.99602428010525,
          -2.810089525623603,
          73.8733151341045,
          12.523918486334669,
          -6.229345369717816,
          11.183044185933937,
          -94.91684123468382,
          -12.051371588544544,
          78.09677410926989,
          21.8568089897824,
          -175.7490343977282,
          -60.95697173750459,
          -52.356510425599524,
          -143.99214189297598,
          -58.32623945497966,
          22.348020085006876,
          -0.09149028545724036,
          156.26674039540575,
          0.9023204189417697,
          -44.345141148051574,
          -33.68265702196912,
          5.392209307929683,
          57.991096815825514,
          -30.53943102373552,
          -28.03532345553441,
          -111.55428297749955,
          -34.05391118347953,
          101.74121868689338,
          -68.5660490872854,
          25.037298949170417,
          -1.2421713164109223,
          -17.792328366667174,
          -37.06520000821534,
          -26.433360562074583,
          53.06796944852447,
          52.144156332409196,
          108.03494235983533,
          -61.26102396234675,
          -53.93783691074629,
          -62.34439472341791,
          -175.13790560853334,
          2.741133862086972,
          -171.2392633344851,
          34.02681068277255,
          82.59037918388469,
          163.3732269772976,
          -32.328102104551064,
          -72.74620571215449,
          -11.141744262680383,
          -58.71542271228244,
          62.66948986611756,
          -2.5063309311209103,
          -48.770908686717064,
          63.38583459662701,
          12.872217252374544,
          -163.22439951410257,
          108.25480695831496,
          33.563464328586576,
          82.84714583427078,
          -98.37133495020782,
          119.53414932656209,
          -84.21787914216341,
          1.385867401746836,
          12.227460241442845,
          -39.698057958725286,
          -7.958221349108658,
          29.52372010110534,
          41.009692231253915,
          -89.64539981238569,
          65.79803330938205,
          -59.1426728985782,
          45.5147591474656,
          52.92561161582506,
          152.39171672742714,
          -68.7777005886214,
          33.86110322265757,
          -18.91837281149867,
          19.696676922672165,
          39.83968821696876
         ]
        }
       ],
       "layout": {
        "legend": {
         "tracegroupgap": 0
        },
        "margin": {
         "t": 60
        },
        "scene": {
         "domain": {
          "x": [
           0,
           1
          ],
          "y": [
           0,
           1
          ]
         },
         "xaxis": {
          "title": {
           "text": "feature1"
          }
         },
         "yaxis": {
          "title": {
           "text": "feature2"
          }
         },
         "zaxis": {
          "title": {
           "text": "target"
          }
         }
        },
        "template": {
         "data": {
          "bar": [
           {
            "error_x": {
             "color": "#2a3f5f"
            },
            "error_y": {
             "color": "#2a3f5f"
            },
            "marker": {
             "line": {
              "color": "#E5ECF6",
              "width": 0.5
             },
             "pattern": {
              "fillmode": "overlay",
              "size": 10,
              "solidity": 0.2
             }
            },
            "type": "bar"
           }
          ],
          "barpolar": [
           {
            "marker": {
             "line": {
              "color": "#E5ECF6",
              "width": 0.5
             },
             "pattern": {
              "fillmode": "overlay",
              "size": 10,
              "solidity": 0.2
             }
            },
            "type": "barpolar"
           }
          ],
          "carpet": [
           {
            "aaxis": {
             "endlinecolor": "#2a3f5f",
             "gridcolor": "white",
             "linecolor": "white",
             "minorgridcolor": "white",
             "startlinecolor": "#2a3f5f"
            },
            "baxis": {
             "endlinecolor": "#2a3f5f",
             "gridcolor": "white",
             "linecolor": "white",
             "minorgridcolor": "white",
             "startlinecolor": "#2a3f5f"
            },
            "type": "carpet"
           }
          ],
          "choropleth": [
           {
            "colorbar": {
             "outlinewidth": 0,
             "ticks": ""
            },
            "type": "choropleth"
           }
          ],
          "contour": [
           {
            "colorbar": {
             "outlinewidth": 0,
             "ticks": ""
            },
            "colorscale": [
             [
              0,
              "#0d0887"
             ],
             [
              0.1111111111111111,
              "#46039f"
             ],
             [
              0.2222222222222222,
              "#7201a8"
             ],
             [
              0.3333333333333333,
              "#9c179e"
             ],
             [
              0.4444444444444444,
              "#bd3786"
             ],
             [
              0.5555555555555556,
              "#d8576b"
             ],
             [
              0.6666666666666666,
              "#ed7953"
             ],
             [
              0.7777777777777778,
              "#fb9f3a"
             ],
             [
              0.8888888888888888,
              "#fdca26"
             ],
             [
              1,
              "#f0f921"
             ]
            ],
            "type": "contour"
           }
          ],
          "contourcarpet": [
           {
            "colorbar": {
             "outlinewidth": 0,
             "ticks": ""
            },
            "type": "contourcarpet"
           }
          ],
          "heatmap": [
           {
            "colorbar": {
             "outlinewidth": 0,
             "ticks": ""
            },
            "colorscale": [
             [
              0,
              "#0d0887"
             ],
             [
              0.1111111111111111,
              "#46039f"
             ],
             [
              0.2222222222222222,
              "#7201a8"
             ],
             [
              0.3333333333333333,
              "#9c179e"
             ],
             [
              0.4444444444444444,
              "#bd3786"
             ],
             [
              0.5555555555555556,
              "#d8576b"
             ],
             [
              0.6666666666666666,
              "#ed7953"
             ],
             [
              0.7777777777777778,
              "#fb9f3a"
             ],
             [
              0.8888888888888888,
              "#fdca26"
             ],
             [
              1,
              "#f0f921"
             ]
            ],
            "type": "heatmap"
           }
          ],
          "heatmapgl": [
           {
            "colorbar": {
             "outlinewidth": 0,
             "ticks": ""
            },
            "colorscale": [
             [
              0,
              "#0d0887"
             ],
             [
              0.1111111111111111,
              "#46039f"
             ],
             [
              0.2222222222222222,
              "#7201a8"
             ],
             [
              0.3333333333333333,
              "#9c179e"
             ],
             [
              0.4444444444444444,
              "#bd3786"
             ],
             [
              0.5555555555555556,
              "#d8576b"
             ],
             [
              0.6666666666666666,
              "#ed7953"
             ],
             [
              0.7777777777777778,
              "#fb9f3a"
             ],
             [
              0.8888888888888888,
              "#fdca26"
             ],
             [
              1,
              "#f0f921"
             ]
            ],
            "type": "heatmapgl"
           }
          ],
          "histogram": [
           {
            "marker": {
             "pattern": {
              "fillmode": "overlay",
              "size": 10,
              "solidity": 0.2
             }
            },
            "type": "histogram"
           }
          ],
          "histogram2d": [
           {
            "colorbar": {
             "outlinewidth": 0,
             "ticks": ""
            },
            "colorscale": [
             [
              0,
              "#0d0887"
             ],
             [
              0.1111111111111111,
              "#46039f"
             ],
             [
              0.2222222222222222,
              "#7201a8"
             ],
             [
              0.3333333333333333,
              "#9c179e"
             ],
             [
              0.4444444444444444,
              "#bd3786"
             ],
             [
              0.5555555555555556,
              "#d8576b"
             ],
             [
              0.6666666666666666,
              "#ed7953"
             ],
             [
              0.7777777777777778,
              "#fb9f3a"
             ],
             [
              0.8888888888888888,
              "#fdca26"
             ],
             [
              1,
              "#f0f921"
             ]
            ],
            "type": "histogram2d"
           }
          ],
          "histogram2dcontour": [
           {
            "colorbar": {
             "outlinewidth": 0,
             "ticks": ""
            },
            "colorscale": [
             [
              0,
              "#0d0887"
             ],
             [
              0.1111111111111111,
              "#46039f"
             ],
             [
              0.2222222222222222,
              "#7201a8"
             ],
             [
              0.3333333333333333,
              "#9c179e"
             ],
             [
              0.4444444444444444,
              "#bd3786"
             ],
             [
              0.5555555555555556,
              "#d8576b"
             ],
             [
              0.6666666666666666,
              "#ed7953"
             ],
             [
              0.7777777777777778,
              "#fb9f3a"
             ],
             [
              0.8888888888888888,
              "#fdca26"
             ],
             [
              1,
              "#f0f921"
             ]
            ],
            "type": "histogram2dcontour"
           }
          ],
          "mesh3d": [
           {
            "colorbar": {
             "outlinewidth": 0,
             "ticks": ""
            },
            "type": "mesh3d"
           }
          ],
          "parcoords": [
           {
            "line": {
             "colorbar": {
              "outlinewidth": 0,
              "ticks": ""
             }
            },
            "type": "parcoords"
           }
          ],
          "pie": [
           {
            "automargin": true,
            "type": "pie"
           }
          ],
          "scatter": [
           {
            "fillpattern": {
             "fillmode": "overlay",
             "size": 10,
             "solidity": 0.2
            },
            "type": "scatter"
           }
          ],
          "scatter3d": [
           {
            "line": {
             "colorbar": {
              "outlinewidth": 0,
              "ticks": ""
             }
            },
            "marker": {
             "colorbar": {
              "outlinewidth": 0,
              "ticks": ""
             }
            },
            "type": "scatter3d"
           }
          ],
          "scattercarpet": [
           {
            "marker": {
             "colorbar": {
              "outlinewidth": 0,
              "ticks": ""
             }
            },
            "type": "scattercarpet"
           }
          ],
          "scattergeo": [
           {
            "marker": {
             "colorbar": {
              "outlinewidth": 0,
              "ticks": ""
             }
            },
            "type": "scattergeo"
           }
          ],
          "scattergl": [
           {
            "marker": {
             "colorbar": {
              "outlinewidth": 0,
              "ticks": ""
             }
            },
            "type": "scattergl"
           }
          ],
          "scattermapbox": [
           {
            "marker": {
             "colorbar": {
              "outlinewidth": 0,
              "ticks": ""
             }
            },
            "type": "scattermapbox"
           }
          ],
          "scatterpolar": [
           {
            "marker": {
             "colorbar": {
              "outlinewidth": 0,
              "ticks": ""
             }
            },
            "type": "scatterpolar"
           }
          ],
          "scatterpolargl": [
           {
            "marker": {
             "colorbar": {
              "outlinewidth": 0,
              "ticks": ""
             }
            },
            "type": "scatterpolargl"
           }
          ],
          "scatterternary": [
           {
            "marker": {
             "colorbar": {
              "outlinewidth": 0,
              "ticks": ""
             }
            },
            "type": "scatterternary"
           }
          ],
          "surface": [
           {
            "colorbar": {
             "outlinewidth": 0,
             "ticks": ""
            },
            "colorscale": [
             [
              0,
              "#0d0887"
             ],
             [
              0.1111111111111111,
              "#46039f"
             ],
             [
              0.2222222222222222,
              "#7201a8"
             ],
             [
              0.3333333333333333,
              "#9c179e"
             ],
             [
              0.4444444444444444,
              "#bd3786"
             ],
             [
              0.5555555555555556,
              "#d8576b"
             ],
             [
              0.6666666666666666,
              "#ed7953"
             ],
             [
              0.7777777777777778,
              "#fb9f3a"
             ],
             [
              0.8888888888888888,
              "#fdca26"
             ],
             [
              1,
              "#f0f921"
             ]
            ],
            "type": "surface"
           }
          ],
          "table": [
           {
            "cells": {
             "fill": {
              "color": "#EBF0F8"
             },
             "line": {
              "color": "white"
             }
            },
            "header": {
             "fill": {
              "color": "#C8D4E3"
             },
             "line": {
              "color": "white"
             }
            },
            "type": "table"
           }
          ]
         },
         "layout": {
          "annotationdefaults": {
           "arrowcolor": "#2a3f5f",
           "arrowhead": 0,
           "arrowwidth": 1
          },
          "autotypenumbers": "strict",
          "coloraxis": {
           "colorbar": {
            "outlinewidth": 0,
            "ticks": ""
           }
          },
          "colorscale": {
           "diverging": [
            [
             0,
             "#8e0152"
            ],
            [
             0.1,
             "#c51b7d"
            ],
            [
             0.2,
             "#de77ae"
            ],
            [
             0.3,
             "#f1b6da"
            ],
            [
             0.4,
             "#fde0ef"
            ],
            [
             0.5,
             "#f7f7f7"
            ],
            [
             0.6,
             "#e6f5d0"
            ],
            [
             0.7,
             "#b8e186"
            ],
            [
             0.8,
             "#7fbc41"
            ],
            [
             0.9,
             "#4d9221"
            ],
            [
             1,
             "#276419"
            ]
           ],
           "sequential": [
            [
             0,
             "#0d0887"
            ],
            [
             0.1111111111111111,
             "#46039f"
            ],
            [
             0.2222222222222222,
             "#7201a8"
            ],
            [
             0.3333333333333333,
             "#9c179e"
            ],
            [
             0.4444444444444444,
             "#bd3786"
            ],
            [
             0.5555555555555556,
             "#d8576b"
            ],
            [
             0.6666666666666666,
             "#ed7953"
            ],
            [
             0.7777777777777778,
             "#fb9f3a"
            ],
            [
             0.8888888888888888,
             "#fdca26"
            ],
            [
             1,
             "#f0f921"
            ]
           ],
           "sequentialminus": [
            [
             0,
             "#0d0887"
            ],
            [
             0.1111111111111111,
             "#46039f"
            ],
            [
             0.2222222222222222,
             "#7201a8"
            ],
            [
             0.3333333333333333,
             "#9c179e"
            ],
            [
             0.4444444444444444,
             "#bd3786"
            ],
            [
             0.5555555555555556,
             "#d8576b"
            ],
            [
             0.6666666666666666,
             "#ed7953"
            ],
            [
             0.7777777777777778,
             "#fb9f3a"
            ],
            [
             0.8888888888888888,
             "#fdca26"
            ],
            [
             1,
             "#f0f921"
            ]
           ]
          },
          "colorway": [
           "#636efa",
           "#EF553B",
           "#00cc96",
           "#ab63fa",
           "#FFA15A",
           "#19d3f3",
           "#FF6692",
           "#B6E880",
           "#FF97FF",
           "#FECB52"
          ],
          "font": {
           "color": "#2a3f5f"
          },
          "geo": {
           "bgcolor": "white",
           "lakecolor": "white",
           "landcolor": "#E5ECF6",
           "showlakes": true,
           "showland": true,
           "subunitcolor": "white"
          },
          "hoverlabel": {
           "align": "left"
          },
          "hovermode": "closest",
          "mapbox": {
           "style": "light"
          },
          "paper_bgcolor": "white",
          "plot_bgcolor": "#E5ECF6",
          "polar": {
           "angularaxis": {
            "gridcolor": "white",
            "linecolor": "white",
            "ticks": ""
           },
           "bgcolor": "#E5ECF6",
           "radialaxis": {
            "gridcolor": "white",
            "linecolor": "white",
            "ticks": ""
           }
          },
          "scene": {
           "xaxis": {
            "backgroundcolor": "#E5ECF6",
            "gridcolor": "white",
            "gridwidth": 2,
            "linecolor": "white",
            "showbackground": true,
            "ticks": "",
            "zerolinecolor": "white"
           },
           "yaxis": {
            "backgroundcolor": "#E5ECF6",
            "gridcolor": "white",
            "gridwidth": 2,
            "linecolor": "white",
            "showbackground": true,
            "ticks": "",
            "zerolinecolor": "white"
           },
           "zaxis": {
            "backgroundcolor": "#E5ECF6",
            "gridcolor": "white",
            "gridwidth": 2,
            "linecolor": "white",
            "showbackground": true,
            "ticks": "",
            "zerolinecolor": "white"
           }
          },
          "shapedefaults": {
           "line": {
            "color": "#2a3f5f"
           }
          },
          "ternary": {
           "aaxis": {
            "gridcolor": "white",
            "linecolor": "white",
            "ticks": ""
           },
           "baxis": {
            "gridcolor": "white",
            "linecolor": "white",
            "ticks": ""
           },
           "bgcolor": "#E5ECF6",
           "caxis": {
            "gridcolor": "white",
            "linecolor": "white",
            "ticks": ""
           }
          },
          "title": {
           "x": 0.05
          },
          "xaxis": {
           "automargin": true,
           "gridcolor": "white",
           "linecolor": "white",
           "ticks": "",
           "title": {
            "standoff": 15
           },
           "zerolinecolor": "white",
           "zerolinewidth": 2
          },
          "yaxis": {
           "automargin": true,
           "gridcolor": "white",
           "linecolor": "white",
           "ticks": "",
           "title": {
            "standoff": 15
           },
           "zerolinecolor": "white",
           "zerolinewidth": 2
          }
         }
        }
       }
      }
     },
     "metadata": {},
     "output_type": "display_data"
    }
   ],
   "source": [
    "import plotly.express as px\n",
    "\n",
    "fig = px.scatter_3d(df, x='feature1', y='feature2', z='target')\n",
    "fig.show()"
   ]
  },
  {
   "cell_type": "code",
   "execution_count": 37,
   "metadata": {},
   "outputs": [],
   "source": [
    "from sklearn.model_selection import train_test_split\n",
    "\n",
    "X_train, X_test, y_train, y_test = train_test_split(X, y, test_size=0.3, random_state=3)"
   ]
  },
  {
   "cell_type": "code",
   "execution_count": 38,
   "metadata": {},
   "outputs": [],
   "source": [
    "from sklearn.linear_model import LinearRegression\n",
    "\n",
    "lr = LinearRegression()"
   ]
  },
  {
   "cell_type": "code",
   "execution_count": 39,
   "metadata": {},
   "outputs": [
    {
     "data": {
      "text/html": [
       "<style>#sk-container-id-4 {color: black;background-color: white;}#sk-container-id-4 pre{padding: 0;}#sk-container-id-4 div.sk-toggleable {background-color: white;}#sk-container-id-4 label.sk-toggleable__label {cursor: pointer;display: block;width: 100%;margin-bottom: 0;padding: 0.3em;box-sizing: border-box;text-align: center;}#sk-container-id-4 label.sk-toggleable__label-arrow:before {content: \"▸\";float: left;margin-right: 0.25em;color: #696969;}#sk-container-id-4 label.sk-toggleable__label-arrow:hover:before {color: black;}#sk-container-id-4 div.sk-estimator:hover label.sk-toggleable__label-arrow:before {color: black;}#sk-container-id-4 div.sk-toggleable__content {max-height: 0;max-width: 0;overflow: hidden;text-align: left;background-color: #f0f8ff;}#sk-container-id-4 div.sk-toggleable__content pre {margin: 0.2em;color: black;border-radius: 0.25em;background-color: #f0f8ff;}#sk-container-id-4 input.sk-toggleable__control:checked~div.sk-toggleable__content {max-height: 200px;max-width: 100%;overflow: auto;}#sk-container-id-4 input.sk-toggleable__control:checked~label.sk-toggleable__label-arrow:before {content: \"▾\";}#sk-container-id-4 div.sk-estimator input.sk-toggleable__control:checked~label.sk-toggleable__label {background-color: #d4ebff;}#sk-container-id-4 div.sk-label input.sk-toggleable__control:checked~label.sk-toggleable__label {background-color: #d4ebff;}#sk-container-id-4 input.sk-hidden--visually {border: 0;clip: rect(1px 1px 1px 1px);clip: rect(1px, 1px, 1px, 1px);height: 1px;margin: -1px;overflow: hidden;padding: 0;position: absolute;width: 1px;}#sk-container-id-4 div.sk-estimator {font-family: monospace;background-color: #f0f8ff;border: 1px dotted black;border-radius: 0.25em;box-sizing: border-box;margin-bottom: 0.5em;}#sk-container-id-4 div.sk-estimator:hover {background-color: #d4ebff;}#sk-container-id-4 div.sk-parallel-item::after {content: \"\";width: 100%;border-bottom: 1px solid gray;flex-grow: 1;}#sk-container-id-4 div.sk-label:hover label.sk-toggleable__label {background-color: #d4ebff;}#sk-container-id-4 div.sk-serial::before {content: \"\";position: absolute;border-left: 1px solid gray;box-sizing: border-box;top: 0;bottom: 0;left: 50%;z-index: 0;}#sk-container-id-4 div.sk-serial {display: flex;flex-direction: column;align-items: center;background-color: white;padding-right: 0.2em;padding-left: 0.2em;position: relative;}#sk-container-id-4 div.sk-item {position: relative;z-index: 1;}#sk-container-id-4 div.sk-parallel {display: flex;align-items: stretch;justify-content: center;background-color: white;position: relative;}#sk-container-id-4 div.sk-item::before, #sk-container-id-4 div.sk-parallel-item::before {content: \"\";position: absolute;border-left: 1px solid gray;box-sizing: border-box;top: 0;bottom: 0;left: 50%;z-index: -1;}#sk-container-id-4 div.sk-parallel-item {display: flex;flex-direction: column;z-index: 1;position: relative;background-color: white;}#sk-container-id-4 div.sk-parallel-item:first-child::after {align-self: flex-end;width: 50%;}#sk-container-id-4 div.sk-parallel-item:last-child::after {align-self: flex-start;width: 50%;}#sk-container-id-4 div.sk-parallel-item:only-child::after {width: 0;}#sk-container-id-4 div.sk-dashed-wrapped {border: 1px dashed gray;margin: 0 0.4em 0.5em 0.4em;box-sizing: border-box;padding-bottom: 0.4em;background-color: white;}#sk-container-id-4 div.sk-label label {font-family: monospace;font-weight: bold;display: inline-block;line-height: 1.2em;}#sk-container-id-4 div.sk-label-container {text-align: center;}#sk-container-id-4 div.sk-container {/* jupyter's `normalize.less` sets `[hidden] { display: none; }` but bootstrap.min.css set `[hidden] { display: none !important; }` so we also need the `!important` here to be able to override the default hidden behavior on the sphinx rendered scikit-learn.org. See: https://github.com/scikit-learn/scikit-learn/issues/21755 */display: inline-block !important;position: relative;}#sk-container-id-4 div.sk-text-repr-fallback {display: none;}</style><div id=\"sk-container-id-4\" class=\"sk-top-container\"><div class=\"sk-text-repr-fallback\"><pre>LinearRegression()</pre><b>In a Jupyter environment, please rerun this cell to show the HTML representation or trust the notebook. <br />On GitHub, the HTML representation is unable to render, please try loading this page with nbviewer.org.</b></div><div class=\"sk-container\" hidden><div class=\"sk-item\"><div class=\"sk-estimator sk-toggleable\"><input class=\"sk-toggleable__control sk-hidden--visually\" id=\"sk-estimator-id-4\" type=\"checkbox\" checked><label for=\"sk-estimator-id-4\" class=\"sk-toggleable__label sk-toggleable__label-arrow\">LinearRegression</label><div class=\"sk-toggleable__content\"><pre>LinearRegression()</pre></div></div></div></div></div>"
      ],
      "text/plain": [
       "LinearRegression()"
      ]
     },
     "execution_count": 39,
     "metadata": {},
     "output_type": "execute_result"
    }
   ],
   "source": [
    "lr.fit(X_train, y_train)"
   ]
  },
  {
   "cell_type": "code",
   "execution_count": 40,
   "metadata": {},
   "outputs": [],
   "source": [
    "y_pred = lr.predict(X_test)"
   ]
  },
  {
   "cell_type": "code",
   "execution_count": 42,
   "metadata": {},
   "outputs": [
    {
     "name": "stdout",
     "output_type": "stream",
     "text": [
      "MAE: 35.26938053469569\n",
      "MSE: 1640.1064344281735\n",
      "R2 Score: 0.6142522219594735\n"
     ]
    }
   ],
   "source": [
    "from sklearn.metrics import  mean_absolute_error, mean_squared_error, r2_score, accuracy_score\n",
    "\n",
    "print('MAE:', mean_absolute_error(y_test, y_pred))\n",
    "print('MSE:', mean_squared_error(y_test, y_pred))\n",
    "print('R2 Score:', r2_score(y_test, y_pred))"
   ]
  },
  {
   "cell_type": "code",
   "execution_count": null,
   "metadata": {},
   "outputs": [],
   "source": [
    "x = np.linspace(-5, 5, 10)\n",
    "y = np.linspace(-5, 5, 10)\n",
    "XGrid, yGrid = np.meshgrid(y, x)\n",
    "\n",
    "final = np.vstack((XGrid.ravel().reshape(1, 100), yGrid.ravel().reshape(1, 100))).T\n",
    "\n",
    "z_final = lr.predict(final).reshape(10, 10)\n",
    "z = z_final"
   ]
  },
  {
   "cell_type": "code",
   "execution_count": null,
   "metadata": {},
   "outputs": [
    {
     "data": {
      "application/vnd.plotly.v1+json": {
       "config": {
        "plotlyServerURL": "https://plot.ly"
       },
       "data": [
        {
         "hovertemplate": "feature1=%{x}<br>feature2=%{y}<br>target=%{z}<extra></extra>",
         "legendgroup": "",
         "marker": {
          "color": "#636efa",
          "symbol": "circle"
         },
         "mode": "markers",
         "name": "",
         "scene": "scene",
         "showlegend": false,
         "type": "scatter3d",
         "x": [
          1.7479911516705382,
          0.8084341767598565,
          -1.0152959855199144,
          -0.3846038393728946,
          0.7532632756246874,
          -3.1337720555971007,
          -0.34346932897378707,
          0.47813232258044136,
          0.666967217355129,
          -0.2980392787694859,
          -0.5858719866347359,
          -0.8529328212934085,
          -0.9544549080503698,
          0.18785284606320005,
          0.10918372946231264,
          0.3048976579671406,
          -0.31786997100434067,
          2.603165977778979,
          -1.3568122926258277,
          1.622499529629406,
          -0.8108097709507033,
          0.7227054545840013,
          1.8118461257879046,
          0.07008458823675524,
          0.2254091678574781,
          1.7607248184039066,
          2.332037794526052,
          0.22212823548234742,
          -0.19271140821209165,
          -1.4395384746453384,
          -0.045140909913134505,
          -0.2763406671436688,
          -0.578970034716443,
          0.6507628476546551,
          0.8774022933652368,
          -0.7928285420705571,
          -0.09877502186379535,
          0.7185053006448936,
          -0.4166423968203646,
          0.8171318949263267,
          0.6496958202412901,
          0.2517674162385624,
          -0.46797399613129126,
          1.3419663068253236,
          -0.6591883494669862,
          0.477542344927593,
          -0.8370636357032674,
          -0.8129913834786039,
          -0.37474855190312534,
          0.7485062322705275,
          -3.700364556335251,
          -0.4274953909989265,
          -0.5824915799673902,
          0.6596842787869502,
          -0.2882590800626771,
          0.14854520409596741,
          1.1373972254476483,
          -1.6310183711326487,
          1.0994539721611492,
          1.328957455135134,
          0.6056573293590579,
          -0.1253258887813774,
          1.0974644044779598,
          -0.8776910186400955,
          0.38340613209291396,
          0.46125524443002136,
          1.5229323691285106,
          -0.8830456672303784,
          0.6624816988682043,
          -0.004314911422223519,
          0.3676546118639265,
          0.058454394371340514,
          -1.8287168302683865,
          -0.5089531125661585,
          -1.0667873965692156,
          0.39994311801320764,
          0.8720078380606671,
          -0.41288873338278914,
          -0.9412637885700584,
          0.49640852577641625,
          -1.1791951160810081,
          0.8008550847625339,
          0.13204628550859474,
          1.8529224066718624,
          1.092967569975881,
          2.2203760119355787,
          -0.1921513144084187,
          1.5577947669332026,
          0.38813440843986763,
          0.6165647369951472,
          0.7576346204703804,
          0.08376028209956533,
          -1.319949654392706,
          0.18336866216542486,
          2.0787115797769644,
          1.1290233121675588,
          -1.1727707754728576,
          -0.013224110118947977,
          -0.5134416065821426,
          0.04798561631156974
         ],
         "y": [
          0.30248223550642805,
          -0.5066674395574824,
          0.7678706585669423,
          0.7426509089983868,
          0.8667857960673809,
          0.9027225072578439,
          0.5024168736945339,
          -0.3926565385835261,
          0.5497281402736726,
          1.4557632966164817,
          -0.6888332957769318,
          1.6626357816159196,
          0.18624308914455026,
          0.5137429396758413,
          -0.9277990411167114,
          0.009659400903098667,
          2.823913019450709,
          0.8733662722673875,
          -1.3527978775103042,
          -0.18602913470265486,
          -0.43971713383785105,
          0.596782719327181,
          -0.9252377680316849,
          -1.531346539776953,
          0.009860811439166124,
          -1.1719540669090058,
          -0.24281507071859193,
          -0.3684725747558396,
          -1.2779682358079165,
          -1.223263287434481,
          -1.1408687574870071,
          1.4128243707917678,
          -0.297026363431563,
          1.510820745883378,
          -1.1860852741501717,
          0.0626593218538727,
          0.6766556534428481,
          0.9534528720573616,
          -0.027203169987226435,
          -1.44840529939379,
          -0.37250746533961565,
          0.4233273612804165,
          -1.3913838359355022,
          0.4123092028461562,
          1.0968865950957916,
          0.3043123188045266,
          -0.2044829148806274,
          1.210977165951241,
          -0.6553581653879729,
          -0.9947914623162442,
          2.2185597427645525,
          -0.6899905239609325,
          -0.14048875520797077,
          -0.7487177837240204,
          1.1200603553201802,
          0.49009946271559607,
          -0.5958365462360524,
          1.1504217512335764,
          -0.41330840289300486,
          0.10493545454969672,
          1.1252479135193099,
          -0.9486267830736542,
          1.8015907824404587,
          1.5934547418510747,
          1.2505980143351876,
          0.5139074328152472,
          -0.9248667446116408,
          0.20667575072724337,
          0.9116352482668841,
          1.1619061688627756,
          0.029031103297845792,
          -0.3201862532433719,
          -1.1899540487126519,
          -1.1012034648315912,
          0.3897020979418726,
          -0.11404087622379369,
          0.06715805078139356,
          -0.3630407029324981,
          -1.1649356416900096,
          -0.3996237704287961,
          -0.29670472847840845,
          -0.30559412598584174,
          0.10620482950174592,
          -0.18083048716406847,
          0.3549536330520058,
          -0.3284256606718232,
          -1.2328320652681388,
          0.28920375084151095,
          -1.0808753592316271,
          -0.6888326033759129,
          0.7766755473134266,
          -0.8552060496300695,
          1.006554273955832,
          -0.2999988216696142,
          0.8793040448181353,
          -0.22694314762761633,
          -1.1265040655606993,
          0.19481840408772907,
          -1.4944506506257458,
          -1.2702281938491646
         ],
         "z": [
          120.46635509984861,
          73.46280865465636,
          -22.129993269738343,
          -113.27034660886295,
          14.03836909169906,
          -140.59835127500068,
          63.903216895685645,
          60.877719120188516,
          -24.15121984697773,
          11.603129890728733,
          6.901804678684385,
          7.499444220867769,
          -38.3033522633734,
          -82.54566130096352,
          52.59793004834403,
          62.181264311134356,
          -31.71102579010446,
          88.35636446474473,
          -90.58355436753921,
          148.43251165601862,
          -26.12675727977077,
          98.75933237549432,
          108.80787918336071,
          -40.860020390898086,
          -12.339878728071325,
          18.435181657644023,
          74.83293240265421,
          -28.190587036346322,
          -33.44459258444524,
          -38.68111136215136,
          -31.259723755680447,
          -68.80578976898768,
          -77.62247780010838,
          47.628999687538155,
          13.033848901270616,
          -117.49374716344445,
          0.5861242767944361,
          70.94585744878961,
          18.26829704988115,
          29.62397011890305,
          93.32715391733362,
          -79.09158596077681,
          -57.733735999566186,
          147.41638818470557,
          34.19151985617884,
          94.43234032938906,
          -47.83051674097097,
          -58.58897629633114,
          -42.15553746111042,
          42.494608884462174,
          -272.143685158146,
          -26.248624667852056,
          -130.98417804023472,
          13.54565419419525,
          15.818884299951188,
          36.35374289767915,
          83.56814475601428,
          -166.60151678929742,
          -78.89469928470317,
          51.03256992902891,
          69.14392241410926,
          -41.58547514771203,
          83.88034604917324,
          -116.11544932619098,
          96.85996349066517,
          -15.629669345421426,
          90.44696521800307,
          -62.98053612240567,
          65.80965313411612,
          64.57676486955059,
          63.29122625474207,
          -70.87371871342678,
          -63.53604891502218,
          -8.171634305436541,
          -37.575305215515236,
          10.638168130925479,
          86.23501008672271,
          95.50808059246827,
          -120.4292045150054,
          -36.08573032305121,
          -47.81052725920355,
          98.1654821699786,
          28.03720640951952,
          73.5012258587985,
          23.240021044026953,
          103.43669970972083,
          -71.25521552671216,
          40.15599600248058,
          -21.759423318937152,
          32.95616321175682,
          4.041016567761588,
          -34.20535180762439,
          -5.9980775186327975,
          -1.7584908423206809,
          133.24831300516584,
          165.31600168679782,
          -37.7826684713724,
          -8.442870739139485,
          -83.29847577079371,
          -78.50254177256147
         ]
        },
        {
         "type": "surface",
         "x": [
          -5,
          -3.888888888888889,
          -2.7777777777777777,
          -1.6666666666666665,
          -0.5555555555555554,
          0.5555555555555554,
          1.666666666666667,
          2.7777777777777786,
          3.8888888888888893,
          5
         ],
         "y": [
          -5,
          -3.888888888888889,
          -2.7777777777777777,
          -1.6666666666666665,
          -0.5555555555555554,
          0.5555555555555554,
          1.666666666666667,
          2.7777777777777786,
          3.8888888888888893,
          5
         ],
         "z": [
          [
           -323.95509079676015,
           -260.13115131535744,
           -196.30721183395465,
           -132.4832723525519,
           -68.65933287114916,
           -4.835393389746455,
           58.98854609165632,
           122.81248557305909,
           186.6364250544618,
           250.46036453586453
          ],
          [
           -316.21011913694235,
           -252.38617965553956,
           -188.56224017413683,
           -124.7383006927341,
           -60.914361211331354,
           2.909578270071359,
           66.73351775147412,
           130.5574572328769,
           194.38139671427962,
           258.2053361956823
          ],
          [
           -308.46514747712456,
           -244.64120799572177,
           -180.81726851431904,
           -116.99332903291628,
           -53.16938955151354,
           10.65454992988917,
           74.47848941129195,
           138.3024288926947,
           202.1263683740974,
           265.9503078555001
          ],
          [
           -300.7201758173067,
           -236.89623633590395,
           -173.07229685450122,
           -109.24835737309847,
           -45.424417891695725,
           18.399521589706985,
           82.22346107110975,
           146.04740055251253,
           209.87134003391523,
           273.69527951531796
          ],
          [
           -292.9752041574889,
           -229.15126467608613,
           -165.3273251946834,
           -101.50338571328066,
           -37.67944623187792,
           26.144493249524793,
           89.96843273092756,
           153.79237221233035,
           217.61631169373305,
           281.44025117513576
          ],
          [
           -285.2302324976711,
           -221.40629301626834,
           -157.5823535348656,
           -93.75841405346284,
           -29.93447457206011,
           33.88946490934261,
           97.71340439074538,
           161.53734387214814,
           225.36128335355085,
           289.18522283495355
          ],
          [
           -277.4852608378533,
           -213.66132135645051,
           -149.83738187504778,
           -86.01344239364504,
           -22.18950291224229,
           41.63443656916042,
           105.45837605056319,
           169.28231553196596,
           233.10625501336867,
           296.9301944947714
          ],
          [
           -269.7402891780355,
           -205.9163496966327,
           -142.09241021522996,
           -78.26847073382723,
           -14.44453125242448,
           49.379408228978235,
           113.203347710381,
           177.02728719178378,
           240.8512266731865,
           304.6751661545892
          ],
          [
           -261.9953175182177,
           -198.1713780368149,
           -134.34743855541217,
           -70.52349907400941,
           -6.69955959260667,
           57.12437988879604,
           120.94831937019882,
           184.77225885160158,
           248.59619833300428,
           312.420137814407
          ],
          [
           -254.25034585839984,
           -190.42640637699708,
           -126.60246689559435,
           -62.7785274141916,
           1.0454120672111404,
           64.86935154861385,
           128.69329103001664,
           192.5172305114194,
           256.3411699928221,
           320.1651094742248
          ]
         ]
        }
       ],
       "layout": {
        "legend": {
         "tracegroupgap": 0
        },
        "margin": {
         "t": 60
        },
        "scene": {
         "domain": {
          "x": [
           0,
           1
          ],
          "y": [
           0,
           1
          ]
         },
         "xaxis": {
          "title": {
           "text": "feature1"
          }
         },
         "yaxis": {
          "title": {
           "text": "feature2"
          }
         },
         "zaxis": {
          "title": {
           "text": "target"
          }
         }
        },
        "template": {
         "data": {
          "bar": [
           {
            "error_x": {
             "color": "#2a3f5f"
            },
            "error_y": {
             "color": "#2a3f5f"
            },
            "marker": {
             "line": {
              "color": "#E5ECF6",
              "width": 0.5
             },
             "pattern": {
              "fillmode": "overlay",
              "size": 10,
              "solidity": 0.2
             }
            },
            "type": "bar"
           }
          ],
          "barpolar": [
           {
            "marker": {
             "line": {
              "color": "#E5ECF6",
              "width": 0.5
             },
             "pattern": {
              "fillmode": "overlay",
              "size": 10,
              "solidity": 0.2
             }
            },
            "type": "barpolar"
           }
          ],
          "carpet": [
           {
            "aaxis": {
             "endlinecolor": "#2a3f5f",
             "gridcolor": "white",
             "linecolor": "white",
             "minorgridcolor": "white",
             "startlinecolor": "#2a3f5f"
            },
            "baxis": {
             "endlinecolor": "#2a3f5f",
             "gridcolor": "white",
             "linecolor": "white",
             "minorgridcolor": "white",
             "startlinecolor": "#2a3f5f"
            },
            "type": "carpet"
           }
          ],
          "choropleth": [
           {
            "colorbar": {
             "outlinewidth": 0,
             "ticks": ""
            },
            "type": "choropleth"
           }
          ],
          "contour": [
           {
            "colorbar": {
             "outlinewidth": 0,
             "ticks": ""
            },
            "colorscale": [
             [
              0,
              "#0d0887"
             ],
             [
              0.1111111111111111,
              "#46039f"
             ],
             [
              0.2222222222222222,
              "#7201a8"
             ],
             [
              0.3333333333333333,
              "#9c179e"
             ],
             [
              0.4444444444444444,
              "#bd3786"
             ],
             [
              0.5555555555555556,
              "#d8576b"
             ],
             [
              0.6666666666666666,
              "#ed7953"
             ],
             [
              0.7777777777777778,
              "#fb9f3a"
             ],
             [
              0.8888888888888888,
              "#fdca26"
             ],
             [
              1,
              "#f0f921"
             ]
            ],
            "type": "contour"
           }
          ],
          "contourcarpet": [
           {
            "colorbar": {
             "outlinewidth": 0,
             "ticks": ""
            },
            "type": "contourcarpet"
           }
          ],
          "heatmap": [
           {
            "colorbar": {
             "outlinewidth": 0,
             "ticks": ""
            },
            "colorscale": [
             [
              0,
              "#0d0887"
             ],
             [
              0.1111111111111111,
              "#46039f"
             ],
             [
              0.2222222222222222,
              "#7201a8"
             ],
             [
              0.3333333333333333,
              "#9c179e"
             ],
             [
              0.4444444444444444,
              "#bd3786"
             ],
             [
              0.5555555555555556,
              "#d8576b"
             ],
             [
              0.6666666666666666,
              "#ed7953"
             ],
             [
              0.7777777777777778,
              "#fb9f3a"
             ],
             [
              0.8888888888888888,
              "#fdca26"
             ],
             [
              1,
              "#f0f921"
             ]
            ],
            "type": "heatmap"
           }
          ],
          "heatmapgl": [
           {
            "colorbar": {
             "outlinewidth": 0,
             "ticks": ""
            },
            "colorscale": [
             [
              0,
              "#0d0887"
             ],
             [
              0.1111111111111111,
              "#46039f"
             ],
             [
              0.2222222222222222,
              "#7201a8"
             ],
             [
              0.3333333333333333,
              "#9c179e"
             ],
             [
              0.4444444444444444,
              "#bd3786"
             ],
             [
              0.5555555555555556,
              "#d8576b"
             ],
             [
              0.6666666666666666,
              "#ed7953"
             ],
             [
              0.7777777777777778,
              "#fb9f3a"
             ],
             [
              0.8888888888888888,
              "#fdca26"
             ],
             [
              1,
              "#f0f921"
             ]
            ],
            "type": "heatmapgl"
           }
          ],
          "histogram": [
           {
            "marker": {
             "pattern": {
              "fillmode": "overlay",
              "size": 10,
              "solidity": 0.2
             }
            },
            "type": "histogram"
           }
          ],
          "histogram2d": [
           {
            "colorbar": {
             "outlinewidth": 0,
             "ticks": ""
            },
            "colorscale": [
             [
              0,
              "#0d0887"
             ],
             [
              0.1111111111111111,
              "#46039f"
             ],
             [
              0.2222222222222222,
              "#7201a8"
             ],
             [
              0.3333333333333333,
              "#9c179e"
             ],
             [
              0.4444444444444444,
              "#bd3786"
             ],
             [
              0.5555555555555556,
              "#d8576b"
             ],
             [
              0.6666666666666666,
              "#ed7953"
             ],
             [
              0.7777777777777778,
              "#fb9f3a"
             ],
             [
              0.8888888888888888,
              "#fdca26"
             ],
             [
              1,
              "#f0f921"
             ]
            ],
            "type": "histogram2d"
           }
          ],
          "histogram2dcontour": [
           {
            "colorbar": {
             "outlinewidth": 0,
             "ticks": ""
            },
            "colorscale": [
             [
              0,
              "#0d0887"
             ],
             [
              0.1111111111111111,
              "#46039f"
             ],
             [
              0.2222222222222222,
              "#7201a8"
             ],
             [
              0.3333333333333333,
              "#9c179e"
             ],
             [
              0.4444444444444444,
              "#bd3786"
             ],
             [
              0.5555555555555556,
              "#d8576b"
             ],
             [
              0.6666666666666666,
              "#ed7953"
             ],
             [
              0.7777777777777778,
              "#fb9f3a"
             ],
             [
              0.8888888888888888,
              "#fdca26"
             ],
             [
              1,
              "#f0f921"
             ]
            ],
            "type": "histogram2dcontour"
           }
          ],
          "mesh3d": [
           {
            "colorbar": {
             "outlinewidth": 0,
             "ticks": ""
            },
            "type": "mesh3d"
           }
          ],
          "parcoords": [
           {
            "line": {
             "colorbar": {
              "outlinewidth": 0,
              "ticks": ""
             }
            },
            "type": "parcoords"
           }
          ],
          "pie": [
           {
            "automargin": true,
            "type": "pie"
           }
          ],
          "scatter": [
           {
            "fillpattern": {
             "fillmode": "overlay",
             "size": 10,
             "solidity": 0.2
            },
            "type": "scatter"
           }
          ],
          "scatter3d": [
           {
            "line": {
             "colorbar": {
              "outlinewidth": 0,
              "ticks": ""
             }
            },
            "marker": {
             "colorbar": {
              "outlinewidth": 0,
              "ticks": ""
             }
            },
            "type": "scatter3d"
           }
          ],
          "scattercarpet": [
           {
            "marker": {
             "colorbar": {
              "outlinewidth": 0,
              "ticks": ""
             }
            },
            "type": "scattercarpet"
           }
          ],
          "scattergeo": [
           {
            "marker": {
             "colorbar": {
              "outlinewidth": 0,
              "ticks": ""
             }
            },
            "type": "scattergeo"
           }
          ],
          "scattergl": [
           {
            "marker": {
             "colorbar": {
              "outlinewidth": 0,
              "ticks": ""
             }
            },
            "type": "scattergl"
           }
          ],
          "scattermapbox": [
           {
            "marker": {
             "colorbar": {
              "outlinewidth": 0,
              "ticks": ""
             }
            },
            "type": "scattermapbox"
           }
          ],
          "scatterpolar": [
           {
            "marker": {
             "colorbar": {
              "outlinewidth": 0,
              "ticks": ""
             }
            },
            "type": "scatterpolar"
           }
          ],
          "scatterpolargl": [
           {
            "marker": {
             "colorbar": {
              "outlinewidth": 0,
              "ticks": ""
             }
            },
            "type": "scatterpolargl"
           }
          ],
          "scatterternary": [
           {
            "marker": {
             "colorbar": {
              "outlinewidth": 0,
              "ticks": ""
             }
            },
            "type": "scatterternary"
           }
          ],
          "surface": [
           {
            "colorbar": {
             "outlinewidth": 0,
             "ticks": ""
            },
            "colorscale": [
             [
              0,
              "#0d0887"
             ],
             [
              0.1111111111111111,
              "#46039f"
             ],
             [
              0.2222222222222222,
              "#7201a8"
             ],
             [
              0.3333333333333333,
              "#9c179e"
             ],
             [
              0.4444444444444444,
              "#bd3786"
             ],
             [
              0.5555555555555556,
              "#d8576b"
             ],
             [
              0.6666666666666666,
              "#ed7953"
             ],
             [
              0.7777777777777778,
              "#fb9f3a"
             ],
             [
              0.8888888888888888,
              "#fdca26"
             ],
             [
              1,
              "#f0f921"
             ]
            ],
            "type": "surface"
           }
          ],
          "table": [
           {
            "cells": {
             "fill": {
              "color": "#EBF0F8"
             },
             "line": {
              "color": "white"
             }
            },
            "header": {
             "fill": {
              "color": "#C8D4E3"
             },
             "line": {
              "color": "white"
             }
            },
            "type": "table"
           }
          ]
         },
         "layout": {
          "annotationdefaults": {
           "arrowcolor": "#2a3f5f",
           "arrowhead": 0,
           "arrowwidth": 1
          },
          "autotypenumbers": "strict",
          "coloraxis": {
           "colorbar": {
            "outlinewidth": 0,
            "ticks": ""
           }
          },
          "colorscale": {
           "diverging": [
            [
             0,
             "#8e0152"
            ],
            [
             0.1,
             "#c51b7d"
            ],
            [
             0.2,
             "#de77ae"
            ],
            [
             0.3,
             "#f1b6da"
            ],
            [
             0.4,
             "#fde0ef"
            ],
            [
             0.5,
             "#f7f7f7"
            ],
            [
             0.6,
             "#e6f5d0"
            ],
            [
             0.7,
             "#b8e186"
            ],
            [
             0.8,
             "#7fbc41"
            ],
            [
             0.9,
             "#4d9221"
            ],
            [
             1,
             "#276419"
            ]
           ],
           "sequential": [
            [
             0,
             "#0d0887"
            ],
            [
             0.1111111111111111,
             "#46039f"
            ],
            [
             0.2222222222222222,
             "#7201a8"
            ],
            [
             0.3333333333333333,
             "#9c179e"
            ],
            [
             0.4444444444444444,
             "#bd3786"
            ],
            [
             0.5555555555555556,
             "#d8576b"
            ],
            [
             0.6666666666666666,
             "#ed7953"
            ],
            [
             0.7777777777777778,
             "#fb9f3a"
            ],
            [
             0.8888888888888888,
             "#fdca26"
            ],
            [
             1,
             "#f0f921"
            ]
           ],
           "sequentialminus": [
            [
             0,
             "#0d0887"
            ],
            [
             0.1111111111111111,
             "#46039f"
            ],
            [
             0.2222222222222222,
             "#7201a8"
            ],
            [
             0.3333333333333333,
             "#9c179e"
            ],
            [
             0.4444444444444444,
             "#bd3786"
            ],
            [
             0.5555555555555556,
             "#d8576b"
            ],
            [
             0.6666666666666666,
             "#ed7953"
            ],
            [
             0.7777777777777778,
             "#fb9f3a"
            ],
            [
             0.8888888888888888,
             "#fdca26"
            ],
            [
             1,
             "#f0f921"
            ]
           ]
          },
          "colorway": [
           "#636efa",
           "#EF553B",
           "#00cc96",
           "#ab63fa",
           "#FFA15A",
           "#19d3f3",
           "#FF6692",
           "#B6E880",
           "#FF97FF",
           "#FECB52"
          ],
          "font": {
           "color": "#2a3f5f"
          },
          "geo": {
           "bgcolor": "white",
           "lakecolor": "white",
           "landcolor": "#E5ECF6",
           "showlakes": true,
           "showland": true,
           "subunitcolor": "white"
          },
          "hoverlabel": {
           "align": "left"
          },
          "hovermode": "closest",
          "mapbox": {
           "style": "light"
          },
          "paper_bgcolor": "white",
          "plot_bgcolor": "#E5ECF6",
          "polar": {
           "angularaxis": {
            "gridcolor": "white",
            "linecolor": "white",
            "ticks": ""
           },
           "bgcolor": "#E5ECF6",
           "radialaxis": {
            "gridcolor": "white",
            "linecolor": "white",
            "ticks": ""
           }
          },
          "scene": {
           "xaxis": {
            "backgroundcolor": "#E5ECF6",
            "gridcolor": "white",
            "gridwidth": 2,
            "linecolor": "white",
            "showbackground": true,
            "ticks": "",
            "zerolinecolor": "white"
           },
           "yaxis": {
            "backgroundcolor": "#E5ECF6",
            "gridcolor": "white",
            "gridwidth": 2,
            "linecolor": "white",
            "showbackground": true,
            "ticks": "",
            "zerolinecolor": "white"
           },
           "zaxis": {
            "backgroundcolor": "#E5ECF6",
            "gridcolor": "white",
            "gridwidth": 2,
            "linecolor": "white",
            "showbackground": true,
            "ticks": "",
            "zerolinecolor": "white"
           }
          },
          "shapedefaults": {
           "line": {
            "color": "#2a3f5f"
           }
          },
          "ternary": {
           "aaxis": {
            "gridcolor": "white",
            "linecolor": "white",
            "ticks": ""
           },
           "baxis": {
            "gridcolor": "white",
            "linecolor": "white",
            "ticks": ""
           },
           "bgcolor": "#E5ECF6",
           "caxis": {
            "gridcolor": "white",
            "linecolor": "white",
            "ticks": ""
           }
          },
          "title": {
           "x": 0.05
          },
          "xaxis": {
           "automargin": true,
           "gridcolor": "white",
           "linecolor": "white",
           "ticks": "",
           "title": {
            "standoff": 15
           },
           "zerolinecolor": "white",
           "zerolinewidth": 2
          },
          "yaxis": {
           "automargin": true,
           "gridcolor": "white",
           "linecolor": "white",
           "ticks": "",
           "title": {
            "standoff": 15
           },
           "zerolinecolor": "white",
           "zerolinewidth": 2
          }
         }
        }
       }
      }
     },
     "metadata": {},
     "output_type": "display_data"
    }
   ],
   "source": [
    "import plotly.graph_objects as go\n",
    "fig = px.scatter_3d(df, x='feature1', y='feature2', z='target')\n",
    "\n",
    "fig.add_trace(go.Surface(x = x, y=y, z=z))\n",
    "fig.show()"
   ]
  },
  {
   "cell_type": "code",
   "execution_count": null,
   "metadata": {},
   "outputs": [
    {
     "data": {
      "text/plain": [
       "(array([57.44154553,  6.97047449]), -1.8949906612676575)"
      ]
     },
     "execution_count": 12,
     "metadata": {},
     "output_type": "execute_result"
    }
   ],
   "source": [
    "lr.coef_, lr.intercept_"
   ]
  }
 ],
 "metadata": {
  "kernelspec": {
   "display_name": "Python 3",
   "language": "python",
   "name": "python3"
  },
  "language_info": {
   "codemirror_mode": {
    "name": "ipython",
    "version": 3
   },
   "file_extension": ".py",
   "mimetype": "text/x-python",
   "name": "python",
   "nbconvert_exporter": "python",
   "pygments_lexer": "ipython3",
   "version": "3.11.3"
  },
  "orig_nbformat": 4
 },
 "nbformat": 4,
 "nbformat_minor": 2
}
