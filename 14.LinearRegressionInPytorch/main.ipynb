{
 "cells": [
  {
   "cell_type": "code",
   "execution_count": 8,
   "id": "300c967d-9f6b-4495-a76e-fe9e9b6671ba",
   "metadata": {},
   "outputs": [],
   "source": [
    "import torch\n",
    "import torch.nn as nn\n",
    "import numpy as np\n",
    "from sklearn import datasets\n",
    "import matplotlib.pyplot as plt"
   ]
  },
  {
   "cell_type": "markdown",
   "id": "b3b48a46-13d1-4068-8fc2-afca7b6bb46c",
   "metadata": {},
   "source": [
    "# **Step 1: Prepare Data**"
   ]
  },
  {
   "cell_type": "code",
   "execution_count": 9,
   "id": "37aa5cac-365c-44b4-8e45-8c55bff7c0c9",
   "metadata": {},
   "outputs": [],
   "source": [
    "X_numpy, y_numpy = datasets.make_regression(n_samples=100, n_features=1, noise=20, random_state=1)\n",
    "\n",
    "# Convert into tensors\n",
    "X = torch.from_numpy(X_numpy.astype(np.float32))\n",
    "y = torch.from_numpy(y_numpy.astype(np.float32))\n",
    "y = y.view(y.shape[0], 1)"
   ]
  },
  {
   "cell_type": "code",
   "execution_count": 10,
   "id": "f49d935e-bc77-4683-99ff-c8bc6074144e",
   "metadata": {},
   "outputs": [],
   "source": [
    "n_samples, n_features = X.shape"
   ]
  },
  {
   "cell_type": "markdown",
   "id": "78c922ef-324b-4e8d-861b-a7662ccd152d",
   "metadata": {},
   "source": [
    "# **Step 2: Create Model**"
   ]
  },
  {
   "cell_type": "code",
   "execution_count": 11,
   "id": "67e83806-063e-4450-9ff9-50dacc4a28dc",
   "metadata": {},
   "outputs": [],
   "source": [
    "input_size = n_features\n",
    "output_size = 1\n",
    "\n",
    "# model\n",
    "model = nn.Linear(input_size, output_size)"
   ]
  },
  {
   "cell_type": "markdown",
   "id": "cd0af1ee-aa50-4d70-aa45-826181ada9f7",
   "metadata": {},
   "source": [
    "# **Step 3: Set Loss and Optimizer func**"
   ]
  },
  {
   "cell_type": "code",
   "execution_count": 12,
   "id": "ca0c6110-4ce1-4da4-87e0-822a2c78509b",
   "metadata": {},
   "outputs": [],
   "source": [
    "# set learning rate\n",
    "learning_rate = 0.01\n",
    "\n",
    "# set loss and optimizer func\n",
    "criterion = nn.MSELoss()\n",
    "optimizer = torch.optim.SGD(model.parameters(), lr=learning_rate)"
   ]
  },
  {
   "cell_type": "markdown",
   "id": "e1f4ab20-084f-4377-bee9-9928c6eef2f2",
   "metadata": {},
   "source": [
    "# **Step 4: Train the Model**"
   ]
  },
  {
   "cell_type": "code",
   "execution_count": 15,
   "id": "3608137d-9eee-4de2-b7bb-59d14aef7ad3",
   "metadata": {},
   "outputs": [
    {
     "name": "stdout",
     "output_type": "stream",
     "text": [
      "epoch: 10, loss: 497.1084\n",
      "epoch: 20, loss: 452.6245\n",
      "epoch: 30, loss: 420.2013\n",
      "epoch: 40, loss: 396.5573\n",
      "epoch: 50, loss: 379.3082\n",
      "epoch: 60, loss: 366.7188\n",
      "epoch: 70, loss: 357.5273\n",
      "epoch: 80, loss: 350.8141\n",
      "epoch: 90, loss: 345.9095\n",
      "epoch: 100, loss: 342.3252\n"
     ]
    }
   ],
   "source": [
    "EPOCHS = 100\n",
    "\n",
    "for epoch in range(EPOCHS):\n",
    "    # forward pass and loss\n",
    "    y_pred = model(X)\n",
    "    loss = criterion(y_pred, y)\n",
    "\n",
    "    # backward pass\n",
    "    loss.backward()\n",
    "\n",
    "    # Update\n",
    "    optimizer.step()\n",
    "    optimizer.zero_grad()\n",
    "\n",
    "    if (epoch + 1) % 10 == 0:\n",
    "        print(f\"epoch: {epoch + 1}, loss: {loss.item():.4f}\")"
   ]
  },
  {
   "cell_type": "code",
   "execution_count": 16,
   "id": "80865b86-ad43-43ea-9c56-9482a8848395",
   "metadata": {},
   "outputs": [
    {
     "data": {
      "image/png": "[encoded data removed]",
      "text/plain": [
       "<Figure size 640x480 with 1 Axes>"
      ]
     },
     "metadata": {},
     "output_type": "display_data"
    }
   ],
   "source": [
    "# create plot\n",
    "predicted = model(X).detach().numpy()\n",
    "plt.plot(X_numpy, y_numpy, 'ro')\n",
    "plt.plot(X_numpy, predicted, 'b')\n",
    "plt.show()"
   ]
  },
  {
   "cell_type": "code",
   "execution_count": null,
   "id": "8b464871-a119-42ea-9690-cc769dd68e52",
   "metadata": {},
   "outputs": [],
   "source": []
  }
 ],
 "metadata": {
  "kernelspec": {
   "display_name": "Python 3 (ipykernel)",
   "language": "python",
   "name": "python3"
  },
  "language_info": {
   "codemirror_mode": {
    "name": "ipython",
    "version": 3
   },
   "file_extension": ".py",
   "mimetype": "text/x-python",
   "name": "python",
   "nbconvert_exporter": "python",
   "pygments_lexer": "ipython3",
   "version": "3.11.3"
  }
 },
 "nbformat": 4,
 "nbformat_minor": 5
}
